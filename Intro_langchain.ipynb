{
  "cells": [
    {
      "cell_type": "markdown",
      "metadata": {
        "colab_type": "text",
        "id": "view-in-github"
      },
      "source": [
        "<a href=\"https://colab.research.google.com/github/geeky-programer/LLM/blob/main/Intro_langchain.ipynb\" target=\"_parent\"><img src=\"https://colab.research.google.com/assets/colab-badge.svg\" alt=\"Open In Colab\"/></a>"
      ]
    },
    {
      "cell_type": "code",
      "execution_count": 6,
      "metadata": {
        "id": "rIoWHuU-gAdG"
      },
      "outputs": [],
      "source": [
        "from langchain.llms import OpenAI"
      ]
    },
    {
      "cell_type": "code",
      "execution_count": 7,
      "metadata": {
        "colab": {
          "base_uri": "https://localhost:8080/",
          "height": 35
        },
        "id": "vSH9UJHehAwc",
        "outputId": "0fba5555-f989-4f3d-dfa1-ac252545bad0"
      },
      "outputs": [
        {
          "name": "stderr",
          "output_type": "stream",
          "text": [
            "Python-dotenv could not parse statement starting at line 1\n"
          ]
        }
      ],
      "source": [
        "from dotenv import load_dotenv\n",
        "load_dotenv()\n",
        "import os"
      ]
    },
    {
      "cell_type": "code",
      "execution_count": 8,
      "metadata": {
        "colab": {
          "base_uri": "https://localhost:8080/"
        },
        "id": "xGH9FOB-hs_y",
        "outputId": "b5072565-3cc8-4acf-a459-6879ae37884b"
      },
      "outputs": [],
      "source": [
        "llm=OpenAI(temperature=0.6)"
      ]
    },
    {
      "cell_type": "code",
      "execution_count": 9,
      "metadata": {
        "colab": {
          "base_uri": "https://localhost:8080/"
        },
        "id": "Bs32aFP_iF0Q",
        "outputId": "61bdd2e9-ef60-4005-c75c-24b5c76d8b91"
      },
      "outputs": [
        {
          "name": "stdout",
          "output_type": "stream",
          "text": [
            "\n",
            "\n",
            "The capital of India is New Delhi.\n"
          ]
        }
      ],
      "source": [
        "text = \"what is the capital of India\"\n",
        "\n",
        "print(llm.predict(text))"
      ]
    },
    {
      "cell_type": "code",
      "execution_count": 12,
      "metadata": {
        "id": "5-boGabxjXm_"
      },
      "outputs": [
        {
          "name": "stderr",
          "output_type": "stream",
          "text": [
            "/Users/akshayganjiguntesrinath/anaconda3/envs/LLM/lib/python3.11/site-packages/tqdm/auto.py:21: TqdmWarning: IProgress not found. Please update jupyter and ipywidgets. See https://ipywidgets.readthedocs.io/en/stable/user_install.html\n",
            "  from .autonotebook import tqdm as notebook_tqdm\n"
          ]
        }
      ],
      "source": [
        "from langchain import HuggingFaceHub\n",
        "llm_hug = HuggingFaceHub(repo_id=\"google/flan-t5-large\",model_kwargs={\"temperature\":0,\"max_length\":64})"
      ]
    },
    {
      "cell_type": "code",
      "execution_count": 13,
      "metadata": {
        "colab": {
          "base_uri": "https://localhost:8080/",
          "height": 35
        },
        "id": "2DF506fJkGCm",
        "outputId": "e5eeb224-94a1-4549-9187-b786a8d58e24"
      },
      "outputs": [
        {
          "data": {
            "text/plain": [
              "'chennai'"
            ]
          },
          "execution_count": 13,
          "metadata": {},
          "output_type": "execute_result"
        }
      ],
      "source": [
        "llm_hug.predict(text)"
      ]
    },
    {
      "cell_type": "code",
      "execution_count": 14,
      "metadata": {
        "colab": {
          "base_uri": "https://localhost:8080/",
          "height": 90
        },
        "id": "cvYs2h-clg58",
        "outputId": "66d66c13-8ba2-485f-f232-eb9dd5a9ddf1"
      },
      "outputs": [
        {
          "name": "stderr",
          "output_type": "stream",
          "text": [
            "/Users/akshayganjiguntesrinath/anaconda3/envs/LLM/lib/python3.11/site-packages/langchain_core/_api/deprecation.py:117: LangChainDeprecationWarning: The function `run` was deprecated in LangChain 0.1.0 and will be removed in 0.2.0. Use invoke instead.\n",
            "  warn_deprecated(\n"
          ]
        },
        {
          "data": {
            "text/plain": [
              "'\\n\\nThe capital of India is New Delhi.'"
            ]
          },
          "execution_count": 14,
          "metadata": {},
          "output_type": "execute_result"
        }
      ],
      "source": [
        "## prompt templates\n",
        "\n",
        "from langchain.prompts import PromptTemplate\n",
        "\n",
        "prompt_template = PromptTemplate(input_variables=['country'], template=\"Tell me the capital of this {country}\")\n",
        "\n",
        "prompt_template.format(country='India')\n",
        "\n",
        "from langchain.chains import LLMChain\n",
        "chain = LLMChain(llm=llm, prompt = prompt_template)\n",
        "chain.run(\"India\")\n",
        "\n",
        "## chain --> LLM model + prompt template\n"
      ]
    },
    {
      "cell_type": "code",
      "execution_count": 16,
      "metadata": {
        "id": "xZsJmWlpmn3z"
      },
      "outputs": [],
      "source": [
        "### multiple chains & simple sequential chains\n",
        "\n",
        "\n",
        "capital_template = PromptTemplate(input_variables=[\"country\"], template = \"Please tell me the capital of {country}\")\n",
        "\n",
        "capital_chain = LLMChain(llm=llm, prompt=capital_template)\n",
        "\n",
        "\n",
        "famous_template = PromptTemplate(input_variables=[\"capital\"], template = \"suggest me places to visit {capital}\")\n",
        "\n",
        "famous_chain = LLMChain(llm=llm,prompt=famous_template)\n",
        "\n",
        "\n"
      ]
    },
    {
      "cell_type": "code",
      "execution_count": 17,
      "metadata": {
        "colab": {
          "base_uri": "https://localhost:8080/",
          "height": 105
        },
        "id": "5gIJqFqWonKL",
        "outputId": "fb974773-9c1c-4fee-9f71-a880d918bcae"
      },
      "outputs": [
        {
          "data": {
            "text/plain": [
              "\" Some popular places to visit in Delhi include:\\n\\n1. Red Fort - a historic fort built by Mughal Emperor Shah Jahan\\n2. India Gate - a war memorial dedicated to Indian soldiers who died in World War I\\n3. Qutub Minar - a 73-meter tall minaret and UNESCO World Heritage Site\\n4. Humayun's Tomb - a mausoleum of Mughal Emperor Humayun\\n5. Lotus Temple - a Bahá'í House of Worship known for its unique lotus-shaped architecture\\n6. Akshardham Temple - a Hindu temple complex with stunning architecture and cultural exhibitions\\n7. Chandni Chowk - one of the oldest and busiest markets in Old Delhi\\n8. Connaught Place - a popular shopping and business hub in New Delhi \\n9. Rashtrapati Bhavan - the official residence of the President of India \\n10. Jama Masjid - one of the largest mosques in India.\""
            ]
          },
          "execution_count": 17,
          "metadata": {},
          "output_type": "execute_result"
        }
      ],
      "source": [
        "from langchain.chains import SimpleSequentialChain\n",
        "chain = SimpleSequentialChain(chains =[capital_chain, famous_chain])\n",
        "chain.run(\"India\")\n"
      ]
    },
    {
      "cell_type": "code",
      "execution_count": 18,
      "metadata": {
        "id": "FamaUA_GpAa6"
      },
      "outputs": [],
      "source": [
        "capital_template = PromptTemplate(input_variables=[\"country\"], template = \"Please tell me the capital of {country}\")\n",
        "\n",
        "capital_chain = LLMChain(llm=llm, prompt=capital_template, output_key=\"capital\")\n",
        "\n",
        "famous_template = PromptTemplate(input_variables=[\"capital\"], template = \"suggest me places to visit {capital}\")\n",
        "\n",
        "famous_chain = LLMChain(llm=llm,prompt=famous_template,output_key=\"places\")\n"
      ]
    },
    {
      "cell_type": "code",
      "execution_count": 19,
      "metadata": {
        "id": "Bs1UgJs0rlns"
      },
      "outputs": [],
      "source": [
        "from langchain.chains.sequential import SequentialChain\n",
        "chain = SequentialChain(chains = [capital_chain, famous_chain], input_variables=['country'], output_variables = ['capital', 'places'])"
      ]
    },
    {
      "cell_type": "code",
      "execution_count": 20,
      "metadata": {
        "colab": {
          "base_uri": "https://localhost:8080/"
        },
        "id": "vy1XXD-4sDX0",
        "outputId": "fd0fb1c5-68f5-4f8b-fd3e-9f67506ac7f7"
      },
      "outputs": [
        {
          "name": "stderr",
          "output_type": "stream",
          "text": [
            "/Users/akshayganjiguntesrinath/anaconda3/envs/LLM/lib/python3.11/site-packages/langchain_core/_api/deprecation.py:117: LangChainDeprecationWarning: The function `__call__` was deprecated in LangChain 0.1.0 and will be removed in 0.2.0. Use invoke instead.\n",
            "  warn_deprecated(\n"
          ]
        },
        {
          "data": {
            "text/plain": [
              "{'country': 'India',\n",
              " 'capital': '\\n\\nThe capital of India is New Delhi.',\n",
              " 'places': \" Here are some popular places to visit in and around the city:\\n\\n1. The Red Fort - a historic fort complex that was the main residence of the Mughal emperors for nearly 200 years.\\n\\n2. Qutub Minar - a UNESCO World Heritage Site and the tallest brick minaret in the world.\\n\\n3. India Gate - a war memorial dedicated to the soldiers of the Indian Army who died during World War I and the Third Anglo-Afghan War.\\n\\n4. Lotus Temple - a Bahá'í House of Worship known for its distinctive lotus-shaped architecture.\\n\\n5. Humayun's Tomb - another UNESCO World Heritage Site and the tomb of the Mughal Emperor Humayun.\\n\\n6. Akshardham Temple - a Hindu temple complex known for its beautiful architecture, gardens, and cultural exhibits.\\n\\n7. Jama Masjid - one of the largest mosques in India and a popular place for worship.\\n\\n8. Chandni Chowk - a bustling market in Old Delhi known for its narrow lanes, street food, and traditional bazaars.\\n\\n9. Hauz Khas Village - a trendy neighborhood with a mix of restaurants, cafes, boutiques, and art galleries.\\n\\n10. Dilli Haat - a traditional open-air market showcasing\"}"
            ]
          },
          "execution_count": 20,
          "metadata": {},
          "output_type": "execute_result"
        }
      ],
      "source": [
        "chain({'country':'India'})"
      ]
    },
    {
      "cell_type": "code",
      "execution_count": 21,
      "metadata": {
        "id": "zQ6r6QHSC0vh"
      },
      "outputs": [],
      "source": [
        "###chat bots with Openai"
      ]
    },
    {
      "cell_type": "code",
      "execution_count": 22,
      "metadata": {
        "id": "Uxy3xuoiC0Zy"
      },
      "outputs": [],
      "source": [
        "from langchain.chat_models import ChatOpenAI"
      ]
    },
    {
      "cell_type": "code",
      "execution_count": 23,
      "metadata": {
        "id": "YaU5PhYcEspG"
      },
      "outputs": [],
      "source": [
        "from langchain.schema import HumanMessage,SystemMessage,AIMessage"
      ]
    },
    {
      "cell_type": "code",
      "execution_count": 25,
      "metadata": {
        "colab": {
          "base_uri": "https://localhost:8080/"
        },
        "id": "luewGTomEucX",
        "outputId": "bdcb6d07-a2ae-4a59-dd99-fbd6e1aeac87"
      },
      "outputs": [
        {
          "name": "stderr",
          "output_type": "stream",
          "text": [
            "/Users/akshayganjiguntesrinath/anaconda3/envs/LLM/lib/python3.11/site-packages/langchain_core/_api/deprecation.py:117: LangChainDeprecationWarning: The class `langchain_community.chat_models.openai.ChatOpenAI` was deprecated in langchain-community 0.0.10 and will be removed in 0.2.0. An updated version of the class exists in the langchain-openai package and should be used instead. To use it run `pip install -U langchain-openai` and import as `from langchain_openai import ChatOpenAI`.\n",
            "  warn_deprecated(\n"
          ]
        }
      ],
      "source": [
        "chatllm=ChatOpenAI(temperature=0.6,model='gpt-3.5-turbo')"
      ]
    },
    {
      "cell_type": "code",
      "execution_count": 27,
      "metadata": {
        "colab": {
          "base_uri": "https://localhost:8080/"
        },
        "id": "fydxKUPSFG8h",
        "outputId": "8903843e-0fdc-4980-86c8-8d6aaa2cf94d"
      },
      "outputs": [
        {
          "name": "stderr",
          "output_type": "stream",
          "text": [
            "/Users/akshayganjiguntesrinath/anaconda3/envs/LLM/lib/python3.11/site-packages/langchain_core/_api/deprecation.py:117: LangChainDeprecationWarning: The function `__call__` was deprecated in LangChain 0.1.7 and will be removed in 0.2.0. Use invoke instead.\n",
            "  warn_deprecated(\n"
          ]
        },
        {
          "data": {
            "text/plain": [
              "AIMessage(content=\"Deep learning is a subfield of machine learning that focuses on training artificial neural networks to learn and make predictions or decisions from complex data. It has gained significant attention and popularity in recent years due to its ability to solve a wide range of problems, including image and speech recognition, natural language processing, and autonomous driving.\\n\\nTo get started with deep learning, here is a step-by-step guide:\\n\\n1. Learn the basics of machine learning: Before diving into deep learning, it is crucial to have a solid understanding of machine learning concepts such as supervised learning, unsupervised learning, and reinforcement learning. Familiarize yourself with algorithms like linear regression, logistic regression, and decision trees.\\n\\n2. Understand neural networks: Deep learning is based on artificial neural networks, which are inspired by the human brain's structure and functioning. Learn about the fundamental components of neural networks, including neurons, activation functions, weights, biases, and layers. Understand how to perform forward propagation and backpropagation to train a neural network.\\n\\n3. Python programming: Deep learning frameworks such as TensorFlow, Keras, and PyTorch are commonly used. Learn Python, a popular programming language for deep learning, as it offers extensive libraries and tools for data manipulation, visualization, and model building. Familiarize yourself with Python's syntax, data structures, and libraries like NumPy and Pandas.\\n\\n4. Data preparation: Deep learning models require large amounts of labeled data for training. Learn how to preprocess and prepare data, including handling missing values, scaling features, and splitting data into training, validation, and testing sets. Gain knowledge of data augmentation techniques for image data.\\n\\n5. Choose a deep learning framework: There are several deep learning frameworks available, each with its own advantages and community support. TensorFlow, Keras, and PyTorch are popular choices. Select a framework that aligns with your preferences and requirements.\\n\\n6. Implement basic neural networks: Start by building simple neural networks, such as feedforward neural networks, and train them on small datasets. Experiment with different activation functions, loss functions, and optimization algorithms. Gain hands-on experience by coding from scratch or utilizing the deep learning frameworks.\\n\\n7. Explore different architectures: As you progress, explore more complex architectures like convolutional neural networks (CNNs) for image data, recurrent neural networks (RNNs) for sequential data, and generative adversarial networks (GANs) for generating synthetic data. Understand the principles behind these architectures and their applications.\\n\\n8. Learn from pre-trained models: Pre-trained models are trained on large datasets and can be fine-tuned for specific tasks. Gain experience by using pre-trained models like VGG, ResNet, or BERT and adapting them to your problem domain. Transfer learning can save time and computational resources.\\n\\n9. Experiment and iterate: Deep learning is a highly iterative process. Experiment with different hyperparameters, architectures, and optimization techniques. Understand the impact of regularization techniques like dropout and batch normalization. Continuously evaluate and refine your models based on validation metrics.\\n\\n10. Stay updated: Deep learning is a rapidly evolving field. Stay updated with the latest research papers, conferences, and blogs. Participate in online communities and forums to learn from experts and share your knowledge.\\n\\nRemember that deep learning requires substantial computational resources, especially for training large models on big datasets. Utilize cloud computing platforms or consider using GPUs or TPUs for faster training.\\n\\nLearning deep learning is a journey that requires patience, practice, and perseverance. Start with the basics, build a strong foundation, and gradually explore more advanced concepts and techniques. Good luck!\")"
            ]
          },
          "execution_count": 27,
          "metadata": {},
          "output_type": "execute_result"
        }
      ],
      "source": [
        "chatllm([\n",
        "SystemMessage(content=\"Yor are a professor AI learning\"),\n",
        "HumanMessage(content=\"Please provide insights on deep learning and a guide to learn it\")\n",
        "])"
      ]
    },
    {
      "cell_type": "code",
      "execution_count": 28,
      "metadata": {
        "id": "UhXYiLpDFZbR"
      },
      "outputs": [],
      "source": [
        "## prompt template ++ LLM ++ Output parser"
      ]
    },
    {
      "cell_type": "code",
      "execution_count": 29,
      "metadata": {
        "id": "5tK1Wxp7F43o"
      },
      "outputs": [],
      "source": [
        "from langchain.chat_models import ChatOpenAI\n",
        "from langchain.prompts.chat import ChatPromptTemplate\n",
        "from langchain.schema import BaseOutputParser"
      ]
    },
    {
      "cell_type": "code",
      "execution_count": 30,
      "metadata": {
        "id": "Kai43j9xGe6F"
      },
      "outputs": [],
      "source": [
        "class Commaseparatedoutput(BaseOutputParser):\n",
        "    def parse(self, text:str):\n",
        "      return text.strip().split(',')"
      ]
    },
    {
      "cell_type": "code",
      "execution_count": 31,
      "metadata": {
        "id": "9LPsh2r-G0Ib"
      },
      "outputs": [],
      "source": [
        "template = \"you are a helpful assistant. When the user gives any input you should generated 5 words synonyms which are comma separated\"\n",
        "human_template = \"{text}\"\n",
        "chatprompt = ChatPromptTemplate.from_messages([('system',template),('human',human_template)])"
      ]
    },
    {
      "cell_type": "code",
      "execution_count": 32,
      "metadata": {
        "id": "Phq25mXuHgJa"
      },
      "outputs": [],
      "source": [
        "chain = chatprompt|chatllm|Commaseparatedoutput()"
      ]
    },
    {
      "cell_type": "code",
      "execution_count": 33,
      "metadata": {
        "colab": {
          "base_uri": "https://localhost:8080/"
        },
        "id": "2uf0M4SkH-Jh",
        "outputId": "f8d35487-a02f-4b20-d335-588e5eaf2e23"
      },
      "outputs": [
        {
          "data": {
            "text/plain": [
              "['smart', ' clever', ' brilliant', ' astute', ' sharp']"
            ]
          },
          "execution_count": 33,
          "metadata": {},
          "output_type": "execute_result"
        }
      ],
      "source": [
        "chain.invoke({'text':'intelligent'})"
      ]
    }
  ],
  "metadata": {
    "colab": {
      "authorship_tag": "ABX9TyPAczHofK6X6qkGfCiQ4L6/",
      "include_colab_link": true,
      "provenance": []
    },
    "kernelspec": {
      "display_name": "Python 3",
      "name": "python3"
    },
    "language_info": {
      "codemirror_mode": {
        "name": "ipython",
        "version": 3
      },
      "file_extension": ".py",
      "mimetype": "text/x-python",
      "name": "python",
      "nbconvert_exporter": "python",
      "pygments_lexer": "ipython3",
      "version": "3.11.7"
    }
  },
  "nbformat": 4,
  "nbformat_minor": 0
}
